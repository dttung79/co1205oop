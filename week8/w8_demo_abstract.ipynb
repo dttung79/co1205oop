{
 "cells": [
  {
   "cell_type": "code",
   "execution_count": 2,
   "metadata": {},
   "outputs": [],
   "source": [
    "from abc import ABC, abstractmethod\n",
    "\n",
    "# Abstract class: inherit from ABC and use @abstractmethod decorator\n",
    "class MyAbstractClass(ABC):\n",
    "    def __init__(self, name):\n",
    "        self.name = name\n",
    "    \n",
    "    @abstractmethod\n",
    "    def do_something(self):\n",
    "        pass\n",
    "\n",
    "    def do_otherthing(self):\n",
    "        print('Other thing')"
   ]
  },
  {
   "cell_type": "code",
   "execution_count": null,
   "metadata": {},
   "outputs": [],
   "source": [
    "a = MyAbstractClass('a')    # Error: cannot create object from abstract class"
   ]
  },
  {
   "cell_type": "code",
   "execution_count": 5,
   "metadata": {},
   "outputs": [
    {
     "name": "stdout",
     "output_type": "stream",
     "text": [
      "A: Doing something\n",
      "Other thing\n"
     ]
    }
   ],
   "source": [
    "class A(MyAbstractClass):\n",
    "    def __init__(self, name):\n",
    "        super().__init__(name)\n",
    "    # override abstract method\n",
    "    def do_something(self):\n",
    "        print('A: Doing something')\n",
    "a = A('a')\n",
    "a.do_something()\n",
    "a.do_otherthing()"
   ]
  },
  {
   "cell_type": "code",
   "execution_count": 6,
   "metadata": {},
   "outputs": [],
   "source": [
    "class B(MyAbstractClass):\n",
    "    def __init__(self, name):\n",
    "        super().__init__(name)\n",
    "    \n",
    "    def do_nothing(self):\n",
    "        print('B: Doing nothing')"
   ]
  },
  {
   "cell_type": "code",
   "execution_count": null,
   "metadata": {},
   "outputs": [],
   "source": [
    "b = B('b')  # Error: class B is still abstract because it does not override do_something method"
   ]
  },
  {
   "cell_type": "code",
   "execution_count": 8,
   "metadata": {},
   "outputs": [
    {
     "name": "stdout",
     "output_type": "stream",
     "text": [
      "C: Doing something\n",
      "B: Doing nothing\n",
      "Other thing\n"
     ]
    }
   ],
   "source": [
    "class C(B):\n",
    "    def __init__(self, name):\n",
    "        super().__init__(name)\n",
    "    def do_something(self):\n",
    "        print('C: Doing something')\n",
    "c = C('c')\n",
    "c.do_something()    # call method from class C which overrides method from class MyAbstractClass\n",
    "c.do_nothing()      # call method from class B\n",
    "c.do_otherthing()   # call method from class MyAbstractClass"
   ]
  }
 ],
 "metadata": {
  "kernelspec": {
   "display_name": "Python 3",
   "language": "python",
   "name": "python3"
  },
  "language_info": {
   "codemirror_mode": {
    "name": "ipython",
    "version": 3
   },
   "file_extension": ".py",
   "mimetype": "text/x-python",
   "name": "python",
   "nbconvert_exporter": "python",
   "pygments_lexer": "ipython3",
   "version": "3.12.4"
  }
 },
 "nbformat": 4,
 "nbformat_minor": 2
}
