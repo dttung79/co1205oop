{
 "cells": [
  {
   "cell_type": "code",
   "execution_count": 1,
   "metadata": {},
   "outputs": [],
   "source": [
    "# define class Teacher\n",
    "class Teacher:\n",
    "    # __init__ is a method to create object of Teacher (normally refered as constructor)\n",
    "    # parameter: id, name, subjects are used to set corresponding attributes\n",
    "    # parameter: self is the object itself\n",
    "    def __init__(self, id, name, subject):\n",
    "        # self.attribute = parameter\n",
    "        self.id      = id\n",
    "        self.name    = name\n",
    "        self.subject = subject\n",
    "    \n",
    "    def show(self):\n",
    "        print(f'Teacher ID: {self.id}, name: {self.name}, teach: {self.subject}')"
   ]
  },
  {
   "cell_type": "code",
   "execution_count": 3,
   "metadata": {},
   "outputs": [
    {
     "name": "stdout",
     "output_type": "stream",
     "text": [
      "Teacher ID: 1, name: John, teach: C++\n",
      "Teacher ID: 2, name: Paul, teach: Web development\n"
     ]
    }
   ],
   "source": [
    "# Create some Teacher objects\n",
    "john = Teacher(1, 'John', 'C++')\n",
    "paul = Teacher(2, 'Paul', 'Web development')\n",
    "# tell john to do something\n",
    "john.show()\n",
    "paul.show()\n"
   ]
  },
  {
   "cell_type": "code",
   "execution_count": 4,
   "metadata": {},
   "outputs": [
    {
     "name": "stdout",
     "output_type": "stream",
     "text": [
      "C++ Web development\n"
     ]
    }
   ],
   "source": [
    "# access attributes (reading) syntax: object.attribute\n",
    "print(john.subject, paul.subject)"
   ]
  },
  {
   "cell_type": "code",
   "execution_count": 7,
   "metadata": {},
   "outputs": [],
   "source": [
    "class Dog:\n",
    "    def __init__(self, nick_name, age, owner):\n",
    "        self.nick_name = nick_name\n",
    "        self.age = age\n",
    "        self.owner = owner\n",
    "    \n",
    "    def woof(self):\n",
    "        print(f'Woof: {self.nick_name}, woof: {self.age}, woof: {self.owner}')"
   ]
  },
  {
   "cell_type": "code",
   "execution_count": 8,
   "metadata": {},
   "outputs": [
    {
     "name": "stdout",
     "output_type": "stream",
     "text": [
      "Woof: Lucky, woof: 4, woof: John\n"
     ]
    }
   ],
   "source": [
    "lucky = Dog('Lucky', 4, 'John')\n",
    "lucky.woof()"
   ]
  },
  {
   "cell_type": "code",
   "execution_count": 11,
   "metadata": {},
   "outputs": [],
   "source": [
    "class Owner:\n",
    "    def __init__(self, name, pet):\n",
    "        self.name = name        # set name\n",
    "        self.pet = pet          # set pet\n",
    "        self.pet.owner = name   # change owner of pet\n",
    "    \n",
    "    def show(self):\n",
    "        print(f'My name is {self.name}')\n",
    "        print('My pet is: ', end=' ')\n",
    "        self.pet.woof()         # tell pet to show"
   ]
  },
  {
   "cell_type": "code",
   "execution_count": 12,
   "metadata": {},
   "outputs": [
    {
     "name": "stdout",
     "output_type": "stream",
     "text": [
      "My name is Paul\n",
      "My pet is:  Woof: Lucky, woof: 4, woof: Paul\n"
     ]
    }
   ],
   "source": [
    "paul = Owner('Paul', lucky)\n",
    "paul.show()"
   ]
  },
  {
   "cell_type": "code",
   "execution_count": 13,
   "metadata": {},
   "outputs": [],
   "source": [
    "class LightBulb:\n",
    "    def __init__(self, room):\n",
    "        self.room = room\n",
    "        self.light = False  # by default, light is off\n",
    "    \n",
    "    def switch(self):\n",
    "        if self.light == True:\n",
    "            self.light = False\n",
    "            print(f'Turn off light for room {self.room}')\n",
    "        else:\n",
    "            self.light = True\n",
    "            print(f'Turn on light for room {self.room}')\n",
    "    \n",
    "    def change_to(self, room):\n",
    "        self.room = room\n",
    "        print(f'Change the bulb to room {self.room}')\n",
    "    \n",
    "    def show(self):\n",
    "        status = 'on' if self.light else 'off'\n",
    "        print(f'Light in {self.room} is {status}')"
   ]
  },
  {
   "cell_type": "code",
   "execution_count": 14,
   "metadata": {},
   "outputs": [
    {
     "name": "stdout",
     "output_type": "stream",
     "text": [
      "Light in Living room is off\n",
      "Turn on light for room Living room\n",
      "Change the bulb to room Bed room\n",
      "Turn off light for room Bed room\n",
      "Light in Bed room is off\n"
     ]
    }
   ],
   "source": [
    "# Create a light bulb in the living room\n",
    "lr_bulb = LightBulb('Living room')\n",
    "lr_bulb.show()\n",
    "# Turn on light bulb\n",
    "lr_bulb.switch()\n",
    "# Change it to bed room\n",
    "lr_bulb.change_to('Bed room')\n",
    "# Turn off\n",
    "lr_bulb.switch()\n",
    "lr_bulb.show()"
   ]
  },
  {
   "cell_type": "code",
   "execution_count": 21,
   "metadata": {},
   "outputs": [],
   "source": [
    "class Television:\n",
    "    def __init__(self, name):\n",
    "        self.name = name\n",
    "        self.state = False\n",
    "        self.channel = 1\n",
    "    \n",
    "    def turn_on(self):\n",
    "        self.state = True\n",
    "        print(f'TV {self.name} is on. Playing channel {self.channel}')\n",
    "    \n",
    "    def turn_off(self):\n",
    "        self.state = False\n",
    "        print(f'TV {self.name} is off.')\n",
    "\n",
    "    def switch(self, channel):\n",
    "        if self.state == True:\n",
    "            self.channel = channel\n",
    "            print(f'Now playing channel {self.channel}')\n",
    "        else:\n",
    "            print(f'TV {self.name} is off. Turn on to switch.')"
   ]
  },
  {
   "cell_type": "code",
   "execution_count": 22,
   "metadata": {},
   "outputs": [
    {
     "name": "stdout",
     "output_type": "stream",
     "text": [
      "TV Samsung is on. Playing channel 1\n",
      "Now playing channel 10\n",
      "TV Samsung is off.\n",
      "TV Samsung is off. Turn on to switch.\n",
      "TV Samsung is on. Playing channel 10\n"
     ]
    }
   ],
   "source": [
    "samsungtv = Television('Samsung')\n",
    "samsungtv.turn_on()\n",
    "samsungtv.switch(10)\n",
    "samsungtv.turn_off()\n",
    "samsungtv.switch(20)\n",
    "samsungtv.turn_on()"
   ]
  }
 ],
 "metadata": {
  "kernelspec": {
   "display_name": "Python 3",
   "language": "python",
   "name": "python3"
  },
  "language_info": {
   "codemirror_mode": {
    "name": "ipython",
    "version": 3
   },
   "file_extension": ".py",
   "mimetype": "text/x-python",
   "name": "python",
   "nbconvert_exporter": "python",
   "pygments_lexer": "ipython3",
   "version": "3.9.12"
  }
 },
 "nbformat": 4,
 "nbformat_minor": 2
}
