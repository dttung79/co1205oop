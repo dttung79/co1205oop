{
 "cells": [
  {
   "cell_type": "code",
   "execution_count": 1,
   "metadata": {},
   "outputs": [
    {
     "name": "stdout",
     "output_type": "stream",
     "text": [
      "A: 10\n"
     ]
    }
   ],
   "source": [
    "class A:\n",
    "    def __init__(self, value):\n",
    "        self.value = value\n",
    "    \n",
    "    def show(self):\n",
    "        print(f\"A: {self.value}\")\n",
    "a = A(10)\n",
    "a.show()"
   ]
  },
  {
   "cell_type": "code",
   "execution_count": 2,
   "metadata": {},
   "outputs": [
    {
     "name": "stdout",
     "output_type": "stream",
     "text": [
      "A: 20\n",
      "A: 30\n"
     ]
    }
   ],
   "source": [
    "class B(A): # B is a subclass of A or B is inherited from A\n",
    "    def __init__(self, value):\n",
    "        super().__init__(value) # call the constructor of the super class\n",
    "\n",
    "b = B(20)       # create an object of B which has everything from A\n",
    "b.show()        # call the show method of A\n",
    "b.value = 30    # access the attribute value from A\n",
    "b.show()"
   ]
  },
  {
   "cell_type": "code",
   "execution_count": null,
   "metadata": {},
   "outputs": [],
   "source": [
    "class A:\n",
    "    def __init__(self, value):\n",
    "        self.__value = value\n",
    "    \n",
    "    def show(self):\n",
    "        print(f\"A: {self.__value}\")\n",
    "a = A(10)\n",
    "a.show()"
   ]
  },
  {
   "cell_type": "code",
   "execution_count": null,
   "metadata": {},
   "outputs": [],
   "source": [
    "class B(A): # B is a subclass of A or B is inherited from A\n",
    "    def __init__(self, value):\n",
    "        super().__init__(value) # call the constructor of the super class\n",
    "    \n",
    "    def new_show(self):\n",
    "        print(f\"B: {self.__value}\") # cannot access the private attribute of A\n",
    "\n",
    "b = B(20)       # create an object of B which has everything from A\n",
    "b.show()        # call the show method of A\n",
    "b.new_show()    # call the new_show method of B but it will cause an error"
   ]
  },
  {
   "cell_type": "code",
   "execution_count": 6,
   "metadata": {},
   "outputs": [],
   "source": [
    "class A:\n",
    "    def __init__(self, value):\n",
    "        self._value = value         # protected attribute\n",
    "    \n",
    "    def show(self):\n",
    "        print(f\"A: {self._value}\")\n",
    "\n",
    "class B(A): # B is a subclass of A or B is inherited from A\n",
    "    def __init__(self, value):\n",
    "        super().__init__(value) # call the constructor of the super class\n",
    "    \n",
    "    def new_show(self):\n",
    "        print(f\"B: {self._value}\") # can access the protected attribute of A"
   ]
  },
  {
   "cell_type": "code",
   "execution_count": 7,
   "metadata": {},
   "outputs": [
    {
     "name": "stdout",
     "output_type": "stream",
     "text": [
      "A: 10\n",
      "B: 10\n"
     ]
    }
   ],
   "source": [
    "b = B(10)\n",
    "b.show()\n",
    "b.new_show()"
   ]
  },
  {
   "cell_type": "code",
   "execution_count": 9,
   "metadata": {},
   "outputs": [],
   "source": [
    "class Pet:\n",
    "    def __init__(self, name):\n",
    "        self._name = name\n",
    "    \n",
    "    def show(self):\n",
    "        print(f\"I am {self._name}\")\n",
    "    \n",
    "class Dog(Pet):\n",
    "    def __init__(self, name, kind):\n",
    "        super().__init__(name)      # call the constructor of the super class\n",
    "        self._kind = kind\n",
    "    \n",
    "    # override the show method of the super class\n",
    "    def show(self):\n",
    "        super().show()  # call the show method of the super class\n",
    "        print(f\"I am a {self._kind}\")"
   ]
  },
  {
   "cell_type": "code",
   "execution_count": 10,
   "metadata": {},
   "outputs": [
    {
     "name": "stdout",
     "output_type": "stream",
     "text": [
      "I am Tommy\n",
      "I am a German Shepherd\n"
     ]
    }
   ],
   "source": [
    "d = Dog(\"Tommy\", \"German Shepherd\")\n",
    "d.show()    # call the show method of Dog which then calls the show method of Pet"
   ]
  }
 ],
 "metadata": {
  "kernelspec": {
   "display_name": "Python 3",
   "language": "python",
   "name": "python3"
  },
  "language_info": {
   "codemirror_mode": {
    "name": "ipython",
    "version": 3
   },
   "file_extension": ".py",
   "mimetype": "text/x-python",
   "name": "python",
   "nbconvert_exporter": "python",
   "pygments_lexer": "ipython3",
   "version": "3.12.4"
  }
 },
 "nbformat": 4,
 "nbformat_minor": 2
}
