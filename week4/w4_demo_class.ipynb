{
 "cells": [
  {
   "cell_type": "code",
   "execution_count": 19,
   "metadata": {},
   "outputs": [],
   "source": [
    "class Teacher:\n",
    "    def __init__(self, id, name, subject):\n",
    "        # self.attribute = parameter\n",
    "        self.id      = id\n",
    "        self.name    = name\n",
    "        self.subject = subject\n",
    "    \n",
    "    def show(self):\n",
    "        print(f'Teacher ID: {self.id}, name: {self.name}, teach: {self.subject}')"
   ]
  },
  {
   "cell_type": "code",
   "execution_count": 20,
   "metadata": {},
   "outputs": [
    {
     "name": "stdout",
     "output_type": "stream",
     "text": [
      "Teacher ID: 1, name: John, teach: C++\n"
     ]
    }
   ],
   "source": [
    "t = Teacher(1, 'John', 'C++')   # create a Teacher object\n",
    "t.show()                        # tell Teacher object to do something"
   ]
  },
  {
   "cell_type": "code",
   "execution_count": 21,
   "metadata": {},
   "outputs": [
    {
     "name": "stdout",
     "output_type": "stream",
     "text": [
      "John\n",
      "Teacher ID: 1, name: Paul, teach: C++\n"
     ]
    }
   ],
   "source": [
    "print(t.name)   # access name attribute (reading access)\n",
    "t.name = 'Paul' # access name attribute (writing access)\n",
    "t.show()\n",
    "t.name = ''     # should not allow that!"
   ]
  },
  {
   "cell_type": "code",
   "execution_count": 22,
   "metadata": {},
   "outputs": [],
   "source": [
    "class Dog:\n",
    "    def __init__(self, nick_name, age, owner):\n",
    "        self.__nick_name = nick_name    # 2 _ means private\n",
    "        self._age = age                 # 1 _ means protected\n",
    "        self.owner = owner              # 0 _ means public\n",
    "    \n",
    "    def woof(self):\n",
    "        print(f'Woof: {self.__nick_name}, woof: {self._age}, woof: {self.owner}')\n",
    "\n",
    "    def get_nick_name(self):\n",
    "        return self.__nick_name\n",
    "\n",
    "    def set_nick_name(self, new_nick_name):\n",
    "        if new_nick_name == '':\n",
    "            print('Nick name cannot be empty!')\n",
    "            self.__nick_name = 'Ki'  # use a default value\n",
    "            return\n",
    "        \n",
    "        self.__nick_name = new_nick_name\n"
   ]
  },
  {
   "cell_type": "code",
   "execution_count": 23,
   "metadata": {},
   "outputs": [
    {
     "name": "stdout",
     "output_type": "stream",
     "text": [
      "Woof: Nicky, woof: 2, woof: Johnny\n"
     ]
    }
   ],
   "source": [
    "d = Dog('Nicky', 2, 'Johnny')\n",
    "d.woof()"
   ]
  },
  {
   "cell_type": "code",
   "execution_count": 24,
   "metadata": {},
   "outputs": [
    {
     "name": "stdout",
     "output_type": "stream",
     "text": [
      "Johnny\n",
      "2\n"
     ]
    },
    {
     "ename": "AttributeError",
     "evalue": "'Dog' object has no attribute '__nick_name'",
     "output_type": "error",
     "traceback": [
      "\u001b[0;31m---------------------------------------------------------------------------\u001b[0m",
      "\u001b[0;31mAttributeError\u001b[0m                            Traceback (most recent call last)",
      "Input \u001b[0;32mIn [24]\u001b[0m, in \u001b[0;36m<cell line: 3>\u001b[0;34m()\u001b[0m\n\u001b[1;32m      1\u001b[0m \u001b[38;5;28mprint\u001b[39m(d\u001b[38;5;241m.\u001b[39mowner)\n\u001b[1;32m      2\u001b[0m \u001b[38;5;28mprint\u001b[39m(d\u001b[38;5;241m.\u001b[39m_age)\n\u001b[0;32m----> 3\u001b[0m \u001b[38;5;28mprint\u001b[39m(\u001b[43md\u001b[49m\u001b[38;5;241;43m.\u001b[39;49m\u001b[43m__nick_name\u001b[49m)\n",
      "\u001b[0;31mAttributeError\u001b[0m: 'Dog' object has no attribute '__nick_name'"
     ]
    }
   ],
   "source": [
    "print(d.owner)\n",
    "print(d._age)\n",
    "print(d.__nick_name) # cannot access because it's private"
   ]
  },
  {
   "cell_type": "code",
   "execution_count": null,
   "metadata": {},
   "outputs": [
    {
     "name": "stdout",
     "output_type": "stream",
     "text": [
      "Nicky\n"
     ]
    }
   ],
   "source": [
    "print(d.get_nick_name())"
   ]
  },
  {
   "cell_type": "code",
   "execution_count": null,
   "metadata": {},
   "outputs": [
    {
     "name": "stdout",
     "output_type": "stream",
     "text": [
      "Woof: Nicky, woof: 10, woof: Johnny\n"
     ]
    }
   ],
   "source": [
    "d.__nick_name = 'Kaaa'  # does not affect to d's attribute\n",
    "d._age = 10\n",
    "d.woof()"
   ]
  },
  {
   "cell_type": "code",
   "execution_count": 27,
   "metadata": {},
   "outputs": [
    {
     "name": "stdout",
     "output_type": "stream",
     "text": [
      "Woof: Kaaa, woof: 2, woof: Johnny\n",
      "Nick name cannot be empty!\n",
      "Woof: Ki, woof: 2, woof: Johnny\n"
     ]
    }
   ],
   "source": [
    "d.set_nick_name('Kaaa')\n",
    "d.woof()\n",
    "d.set_nick_name('')\n",
    "d.woof()"
   ]
  },
  {
   "cell_type": "code",
   "execution_count": 31,
   "metadata": {},
   "outputs": [],
   "source": [
    "class Movie:\n",
    "    def __init__(self, name, director, rate):\n",
    "        self.set_name(name)\n",
    "        self.set_director(director)\n",
    "        self.set_rate(rate)\n",
    "    \n",
    "    def get_name(self):\n",
    "        return self.__name\n",
    "    \n",
    "    def get_director(self):\n",
    "        return self.__director\n",
    "    \n",
    "    def get_rate(self):\n",
    "        return self.__rate\n",
    "    \n",
    "    def set_name(self, name):\n",
    "        if name == '':\n",
    "            print('Name cannot be empty! Change to default.')\n",
    "            self.__name = 'The Matrix'\n",
    "            return\n",
    "        self.__name = name\n",
    "\n",
    "    def set_director(self, director):\n",
    "        if director == '':\n",
    "            print('Director cannot be empty! Change to default.')\n",
    "            self.__director = 'Wachowski Brothers'\n",
    "            return\n",
    "        self.__director = director\n",
    "    \n",
    "    def set_rate(self, rate):\n",
    "        if rate < 0 or rate > 5:\n",
    "            print('Rate must be in range 0-5! Change to default.')\n",
    "            self.__rate = 0\n",
    "            return\n",
    "        self.__rate = rate\n",
    "    \n",
    "    def show(self):\n",
    "        print(f'Movie: {self.__name}, directed by {self.__director}, rate: {self.__rate}')"
   ]
  },
  {
   "cell_type": "code",
   "execution_count": 32,
   "metadata": {},
   "outputs": [
    {
     "name": "stdout",
     "output_type": "stream",
     "text": [
      "Name cannot be empty! Change to default.\n",
      "Director cannot be empty! Change to default.\n",
      "Rate must be in range 0-5! Change to default.\n",
      "Movie: The Matrix, directed by Wachowski Brothers, rate: 0\n"
     ]
    }
   ],
   "source": [
    "m = Movie('', '', -1)\n",
    "m.show()"
   ]
  }
 ],
 "metadata": {
  "kernelspec": {
   "display_name": "Python 3",
   "language": "python",
   "name": "python3"
  },
  "language_info": {
   "codemirror_mode": {
    "name": "ipython",
    "version": 3
   },
   "file_extension": ".py",
   "mimetype": "text/x-python",
   "name": "python",
   "nbconvert_exporter": "python",
   "pygments_lexer": "ipython3",
   "version": "3.9.12"
  }
 },
 "nbformat": 4,
 "nbformat_minor": 2
}
