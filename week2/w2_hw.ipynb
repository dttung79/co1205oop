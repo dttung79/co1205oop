{
 "cells": [
  {
   "cell_type": "code",
   "execution_count": 1,
   "metadata": {},
   "outputs": [
    {
     "name": "stdout",
     "output_type": "stream",
     "text": [
      "[-97, -79, -76, -74, -66, -37, -33, -6, 15, 25, 39, 52, 62, 72, 92]\n"
     ]
    }
   ],
   "source": [
    "import random as rd \n",
    "def greater(a, b):\n",
    "    return a > b\n",
    "\n",
    "def my_sort(items, compare=greater):\n",
    "    for i in range(len(items)-1):\n",
    "        for j in range(i+1, len(items)):\n",
    "            if compare(items[i], items[j]):\n",
    "                items[i], items[j] = items[j], items[i]\n",
    "    return items\n",
    "\n",
    "numbers = rd.sample(range(-100, 100), 15)\n",
    "my_sort(numbers)    # default sort is ascending, using greater function\n",
    "print(numbers)"
   ]
  },
  {
   "cell_type": "code",
   "execution_count": 15,
   "metadata": {},
   "outputs": [
    {
     "name": "stdout",
     "output_type": "stream",
     "text": [
      "Sort descending\n",
      "[92, 72, 62, 52, 39, 25, 15, -6, -33, -37, -66, -74, -76, -79, -97]\n",
      "Sort descending by absolute\n",
      "[-97, 92, -79, -76, -74, 72, -66, 62, 52, 39, -37, -33, 25, 15, -6]\n",
      "Sort ascending by last digit\n",
      "[92, 72, 62, 52, -33, -74, 25, 15, -66, -76, -6, -97, -37, 39, -79]\n",
      "Sort descending by last digit\n",
      "[39, -79, -97, -37, -76, -6, -66, 15, 25, -74, -33, 52, 92, 72, 62]\n",
      "-------------\n",
      "-------------\n",
      "Le Trung Binh\n",
      "Do Thi Lan\n",
      "Nguyen Van Binh\n",
      "Le Duc Hoa\n",
      "Nguyen Van An\n",
      "Hoang Mai\n",
      "Nguyen Thi Mai\n",
      "Ho Thu Hoai\n"
     ]
    }
   ],
   "source": [
    "# Do all the task bellow by using lambda function\n",
    "\n",
    "# Sort numbers descending \n",
    "my_sort(numbers, lambda a, b: a < b)\n",
    "print('Sort descending')\n",
    "print(numbers)\n",
    "# Sort numbers ascending by absolute value\n",
    "abs = lambda a: -a if a < 0 else a\n",
    "# Sort numbers descending by absolute value\n",
    "my_sort(numbers, lambda a, b: abs(a) < abs(b))\n",
    "print('Sort descending by absolute')\n",
    "print(numbers)\n",
    "# Sort numbers ascending by the last digit\n",
    "my_sort(numbers, lambda a, b: abs(a) % 10 > abs(b) % 10)\n",
    "print('Sort ascending by last digit')\n",
    "print(numbers)\n",
    "# Sort numbers decending by the last digit\n",
    "my_sort(numbers, lambda a, b: abs(a) % 10 < abs(b) % 10)\n",
    "print('Sort descending by last digit')\n",
    "print(numbers)\n",
    "names = ['Nguyen Van Binh', 'Nguyen Van An', 'Le Trung Binh', 'Le Duc Hoa',\n",
    "         'Hoang Mai', 'Ho Thu Hoai', 'Nguyen Thi Mai', 'Do Thi Lan']\n",
    "# Sort names by last name then first name (Vietnamesse name)\n",
    "def print_names(names):\n",
    "    for n in names:\n",
    "        print(n)\n",
    "my_sort(names, lambda a, b: a.split()[0] > b.split()[0])\n",
    "#print_names(names)\n",
    "print('-------------')\n",
    "my_sort(names, lambda a, b: a.split()[-1] > b.split()[-1])\n",
    "#print_names(names)\n",
    "# Sort names by number of vowels (aeiou) in name\n",
    "vowels = 'aeiou'\n",
    "count_vowels = lambda a: len([c for c in a.lower() if c in vowels])\n",
    "my_sort(names, lambda a, b: count_vowels(a) > count_vowels(b))\n",
    "print('-------------')\n",
    "print_names(names)"
   ]
  }
 ],
 "metadata": {
  "kernelspec": {
   "display_name": "Python 3",
   "language": "python",
   "name": "python3"
  },
  "language_info": {
   "codemirror_mode": {
    "name": "ipython",
    "version": 3
   },
   "file_extension": ".py",
   "mimetype": "text/x-python",
   "name": "python",
   "nbconvert_exporter": "python",
   "pygments_lexer": "ipython3",
   "version": "3.9.12"
  },
  "orig_nbformat": 4
 },
 "nbformat": 4,
 "nbformat_minor": 2
}
