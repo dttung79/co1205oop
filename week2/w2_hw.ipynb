{
 "cells": [
  {
   "cell_type": "code",
   "execution_count": 3,
   "metadata": {},
   "outputs": [
    {
     "name": "stdout",
     "output_type": "stream",
     "text": [
      "[-95, -86, -82, -59, -58, -52, -19, -17, 24, 39, 43, 47, 53, 61, 75]\n"
     ]
    }
   ],
   "source": [
    "import random as rd \n",
    "def greater(a, b):\n",
    "    return a > b\n",
    "\n",
    "def my_sort(items, compare=greater):\n",
    "    for i in range(len(items)-1):\n",
    "        for j in range(i+1, len(items)):\n",
    "            if compare(items[i], items[j]):\n",
    "                items[i], items[j] = items[j], items[i]\n",
    "    return items\n",
    "\n",
    "numbers = rd.sample(range(-100, 100), 15)\n",
    "my_sort(numbers)    # default sort is ascending, using greater function\n",
    "print(numbers)"
   ]
  },
  {
   "cell_type": "code",
   "execution_count": null,
   "metadata": {},
   "outputs": [],
   "source": [
    "# Do all the task bellow by using lambda function\n",
    "\n",
    "# Sort numbers descending \n",
    "\n",
    "# Sort numbers ascending by absolute value\n",
    "\n",
    "# Sort numbers descending by absolute value\n",
    "\n",
    "# Sort numbers ascending by the last digit\n",
    "\n",
    "# Sort numbers decending by the last digit\n",
    "print(numbers)\n",
    "names = ['Nguyen Van Binh', 'Nguyen Van An', 'Le Trung Binh', 'Le Duc Hoa',\n",
    "         'Hoang Mai', 'Ho Thu Hoai', 'Nguyen Thi Mai', 'Do Thi Lan']\n",
    "# Sort names by last name then first name (Vietnamesse name)\n",
    "\n",
    "# Sort names by number of vowels (aeiou) in name"
   ]
  }
 ],
 "metadata": {
  "kernelspec": {
   "display_name": "Python 3",
   "language": "python",
   "name": "python3"
  },
  "language_info": {
   "codemirror_mode": {
    "name": "ipython",
    "version": 3
   },
   "file_extension": ".py",
   "mimetype": "text/x-python",
   "name": "python",
   "nbconvert_exporter": "python",
   "pygments_lexer": "ipython3",
   "version": "3.9.12"
  },
  "orig_nbformat": 4
 },
 "nbformat": 4,
 "nbformat_minor": 2
}
