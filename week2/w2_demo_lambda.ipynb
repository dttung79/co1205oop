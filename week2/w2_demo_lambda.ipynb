{
 "cells": [
  {
   "cell_type": "code",
   "execution_count": 1,
   "metadata": {},
   "outputs": [],
   "source": [
    "def superior(items, comp):\n",
    "    s = items[0]                # set items[0] is superior\n",
    "    for i in range(1, len(items)):\n",
    "        if comp(s, items[i]):   # compare s and items[i]\n",
    "            s = items[i]        # update s if items[i] is superior than s\n",
    "    \n",
    "    return s"
   ]
  },
  {
   "cell_type": "code",
   "execution_count": 2,
   "metadata": {},
   "outputs": [],
   "source": [
    "def greater(a, b):\n",
    "    return a > b\n",
    "\n",
    "def less(a, b):\n",
    "    return a < b"
   ]
  },
  {
   "cell_type": "code",
   "execution_count": 8,
   "metadata": {},
   "outputs": [
    {
     "name": "stdout",
     "output_type": "stream",
     "text": [
      "[22, 29, 64, 76, 40, 19, 30, 65, 36, 90]\n"
     ]
    }
   ],
   "source": [
    "import random as rd\n",
    "numbers = [rd.randint(10, 100) for i in range(10)]\n",
    "print(numbers)"
   ]
  },
  {
   "cell_type": "code",
   "execution_count": 10,
   "metadata": {},
   "outputs": [
    {
     "name": "stdout",
     "output_type": "stream",
     "text": [
      "Max = 90\n",
      "Min = 19\n"
     ]
    }
   ],
   "source": [
    "print(f'Max =', superior(numbers, less))\n",
    "print(f'Min =', superior(numbers, greater))"
   ]
  },
  {
   "cell_type": "code",
   "execution_count": 11,
   "metadata": {},
   "outputs": [
    {
     "name": "stdout",
     "output_type": "stream",
     "text": [
      "Max = 90\n",
      "Min = 19\n"
     ]
    }
   ],
   "source": [
    "# using lambda function\n",
    "print(f'Max =', superior(numbers, lambda a, b: a < b))\n",
    "print(f'Min =', superior(numbers, lambda a, b: a > b))"
   ]
  },
  {
   "cell_type": "code",
   "execution_count": 12,
   "metadata": {},
   "outputs": [
    {
     "name": "stdout",
     "output_type": "stream",
     "text": [
      "Max by digit = 29\n",
      "Min by digit = 40\n"
     ]
    }
   ],
   "source": [
    "print(f'Max by digit =', superior(numbers, lambda a, b: a%10 < b%10))\n",
    "print(f'Min by digit =', superior(numbers, lambda a, b: a%10 > b%10))"
   ]
  },
  {
   "cell_type": "code",
   "execution_count": 17,
   "metadata": {},
   "outputs": [
    {
     "name": "stdout",
     "output_type": "stream",
     "text": [
      "First name (alphabet): Christiano Ronaldo\n",
      "Last name (alphabet): Wayne Rooney\n",
      "Shortest name: Ryan Giggs\n",
      "Longest name: Christiano Ronaldo\n"
     ]
    }
   ],
   "source": [
    "names = ['Wayne Rooney', 'Robie Van Persie', 'Christiano Ronaldo', 'Ryan Giggs']\n",
    "# print 1st name in alphabet\n",
    "print('First name (alphabet):', superior(names, lambda a, b: a > b))\n",
    "# print last name in alphabet\n",
    "print('Last name (alphabet):', superior(names, lambda a, b: a < b))\n",
    "# print shortest name by length\n",
    "print('Shortest name:', superior(names, lambda a, b: len(a) > len(b)))\n",
    "# print longest name by length\n",
    "print('Longest name:', superior(names, lambda a, b: len(a) < len(b)))"
   ]
  },
  {
   "cell_type": "code",
   "execution_count": 19,
   "metadata": {},
   "outputs": [
    {
     "name": "stdout",
     "output_type": "stream",
     "text": [
      "Wayne Rooney\n",
      "Ryan Giggs\n"
     ]
    }
   ],
   "source": [
    "print(superior(names, lambda a, b: a.split(' ')[-1] < b.split(' ')[-1]))\n",
    "print(superior(names, lambda a, b: a.split(' ')[-1] > b.split(' ')[-1]))"
   ]
  }
 ],
 "metadata": {
  "kernelspec": {
   "display_name": "Python 3",
   "language": "python",
   "name": "python3"
  },
  "language_info": {
   "codemirror_mode": {
    "name": "ipython",
    "version": 3
   },
   "file_extension": ".py",
   "mimetype": "text/x-python",
   "name": "python",
   "nbconvert_exporter": "python",
   "pygments_lexer": "ipython3",
   "version": "3.9.12"
  }
 },
 "nbformat": 4,
 "nbformat_minor": 2
}
