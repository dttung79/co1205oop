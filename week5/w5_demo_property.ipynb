{
 "cells": [
  {
   "cell_type": "code",
   "execution_count": 7,
   "metadata": {},
   "outputs": [],
   "source": [
    "class Room:\n",
    "    def __init__(self, name, area):\n",
    "        self.set_name(name)     # call set_name\n",
    "        self.area = area        # call area.setter\n",
    "    \n",
    "    def get_name(self):\n",
    "        return self.__name\n",
    "    \n",
    "    def set_name(self, name):\n",
    "        self.__name = name\n",
    "    \n",
    "    @property\n",
    "    def area(self):\n",
    "        return self.__area\n",
    "    \n",
    "    @area.setter\n",
    "    def area(self, value):\n",
    "        self.__area = value"
   ]
  },
  {
   "cell_type": "code",
   "execution_count": 8,
   "metadata": {},
   "outputs": [
    {
     "name": "stdout",
     "output_type": "stream",
     "text": [
      "Bed Room\n",
      "20\n",
      "Master Bed Room\n",
      "25\n"
     ]
    }
   ],
   "source": [
    "bedroom = Room('Bed Room', 20)\n",
    "# call getters\n",
    "print(bedroom.get_name())\n",
    "print(bedroom.area)\n",
    "# call setters\n",
    "bedroom.set_name('Master Bed Room')\n",
    "bedroom.area = 25\n",
    "print(bedroom.get_name())\n",
    "print(bedroom.area)"
   ]
  },
  {
   "cell_type": "code",
   "execution_count": 9,
   "metadata": {},
   "outputs": [],
   "source": [
    "class GreetingCard:\n",
    "    def __init__(self, recipient, sender, message):\n",
    "        self.recipient = recipient\n",
    "        self.sender = sender\n",
    "        self.message = message\n",
    "    \n",
    "    @property\n",
    "    def recipient(self):\n",
    "        return self.__recipient\n",
    "    \n",
    "    @recipient.setter\n",
    "    def recipient(self, value):\n",
    "        if value == '':\n",
    "            self.__recipient = 'Unknown'\n",
    "            return\n",
    "        self.__recipient = value\n",
    "    \n",
    "    @property\n",
    "    def sender(self):\n",
    "        return self.__sender\n",
    "    \n",
    "    @sender.setter\n",
    "    def sender(self, value):\n",
    "        if value == '':\n",
    "            self.__sender = 'Unknown'\n",
    "            return\n",
    "        self.__sender = value\n",
    "\n",
    "    @property\n",
    "    def message(self):\n",
    "        return self.__message\n",
    "    \n",
    "    @message.setter\n",
    "    def message(self, value):\n",
    "        if value == '':\n",
    "            self.__message = 'Blank'\n",
    "            return\n",
    "        self.__message = value\n",
    "    \n",
    "    def show(self):\n",
    "        print(f'Greeting card from {self.sender} to {self.recipient}: {self.message}')"
   ]
  },
  {
   "cell_type": "code",
   "execution_count": 14,
   "metadata": {},
   "outputs": [
    {
     "name": "stdout",
     "output_type": "stream",
     "text": [
      "Greeting card from Paul to Yoko: Getback to where you once belonged\n",
      "Greeting card from Unknown to Unknown: Getback to where you once belonged\n"
     ]
    }
   ],
   "source": [
    "gc = GreetingCard('Yoko', 'Paul', 'Getback to where you once belonged')\n",
    "gc.show()\n",
    "gc.recipient = ''\n",
    "gc.sender = ''\n",
    "gc.show()"
   ]
  }
 ],
 "metadata": {
  "kernelspec": {
   "display_name": "Python 3",
   "language": "python",
   "name": "python3"
  },
  "language_info": {
   "codemirror_mode": {
    "name": "ipython",
    "version": 3
   },
   "file_extension": ".py",
   "mimetype": "text/x-python",
   "name": "python",
   "nbconvert_exporter": "python",
   "pygments_lexer": "ipython3",
   "version": "3.12.4"
  }
 },
 "nbformat": 4,
 "nbformat_minor": 2
}
